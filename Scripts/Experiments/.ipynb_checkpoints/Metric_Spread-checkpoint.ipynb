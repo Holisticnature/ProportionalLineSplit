{
 "cells": [
  {
   "cell_type": "markdown",
   "metadata": {},
   "source": [
    "# Metric Decay\n",
    "Given a spatial polyline network, this tool will refer to two fields to determine the degree a \"spread\" field will dissemenate some source value across connections given some numeric \"metric\" field. It assumes the degree of spread is proportional to the share of the metric connections to sources have. It can assume sources spread per segment or per end point (per end point meaning half of the spread is given to each end). \n"
   ]
  },
  {
   "cell_type": "code",
   "execution_count": null,
   "metadata": {},
   "outputs": [],
   "source": []
  }
 ],
 "metadata": {
  "kernelspec": {
   "display_name": "Python 3",
   "language": "python",
   "name": "python3"
  },
  "language_info": {
   "codemirror_mode": {
    "name": "ipython",
    "version": 3
   },
   "file_extension": ".py",
   "mimetype": "text/x-python",
   "name": "python",
   "nbconvert_exporter": "python",
   "pygments_lexer": "ipython3",
   "version": "3.7.9"
  }
 },
 "nbformat": 4,
 "nbformat_minor": 4
}
